{
  "nbformat": 4,
  "nbformat_minor": 0,
  "metadata": {
    "colab": {
      "provenance": []
    },
    "kernelspec": {
      "name": "python3",
      "display_name": "Python 3"
    },
    "language_info": {
      "name": "python"
    }
  },
  "cells": [
    {
      "cell_type": "code",
      "execution_count": null,
      "metadata": {
        "id": "ftCzzchwif5G"
      },
      "outputs": [],
      "source": []
    },
    {
      "cell_type": "code",
      "source": [
        "import numpy as np\n",
        "import pandas as pd\n",
        "import os\n",
        "\n",
        "def bfs(src,target):\n",
        "    queue = []\n",
        "    queue.append(src)\n",
        "\n",
        "    exp = []\n",
        "\n",
        "    while len(queue) > 0:\n",
        "        source = queue.pop(0)\n",
        "        exp.append(source)\n",
        "\n",
        "        print(source)\n",
        "\n",
        "        if source==target:\n",
        "            print(\"success\")\n",
        "            return\n",
        "\n",
        "        poss_moves_to_do = []\n",
        "        poss_moves_to_do = possible_moves(source,exp)\n",
        "\n",
        "        for move in poss_moves_to_do:\n",
        "\n",
        "            if move not in exp and move not in queue:\n",
        "                queue.append(move)"
      ],
      "metadata": {
        "_uuid": "8f2839f25d086af736a60e9eeb907d3b93b6e0e5",
        "_cell_guid": "b1076dfc-b9ad-4769-8c92-a6c4dae69d19",
        "execution": {
          "iopub.status.busy": "2022-11-03T03:35:23.306137Z",
          "iopub.execute_input": "2022-11-03T03:35:23.306942Z",
          "iopub.status.idle": "2022-11-03T03:35:23.338799Z",
          "shell.execute_reply.started": "2022-11-03T03:35:23.306815Z",
          "shell.execute_reply": "2022-11-03T03:35:23.337591Z"
        },
        "trusted": true,
        "id": "TdoJqVXCiORF"
      },
      "execution_count": 1,
      "outputs": []
    },
    {
      "cell_type": "code",
      "source": [
        "def possible_moves(state,visited_states):\n",
        "    #index of empty spot\n",
        "    b = state.index(0)\n",
        "\n",
        "    #directions array\n",
        "    d = []\n",
        "    #Add all the possible directions\n",
        "\n",
        "    if b not in [0,1,2]:\n",
        "        d.append('u')\n",
        "    if b not in [6,7,8]:\n",
        "        d.append('d')\n",
        "    if b not in [0,3,6]:\n",
        "        d.append('l')\n",
        "    if b not in [2,5,8]:\n",
        "        d.append('r')\n",
        "\n",
        "\n",
        "    # If direction is possible then add state to move\n",
        "    pos_moves_it_can = []\n",
        "\n",
        "    # for all possible directions find the state if that move is played\n",
        "    ### Jump to gen function to generate all possible moves in the given directions\n",
        "\n",
        "    for i in d:\n",
        "        pos_moves_it_can.append(gen(state,i,b))\n",
        "\n",
        "    return [move_it_can for move_it_can in pos_moves_it_can if move_it_can not in visited_states]"
      ],
      "metadata": {
        "id": "0gIuwToHirCg"
      },
      "execution_count": 2,
      "outputs": []
    },
    {
      "cell_type": "code",
      "source": [
        "def gen(state, m, b):\n",
        "    temp = state.copy()\n",
        "\n",
        "    if m=='d':\n",
        "        temp[b+3],temp[b] = temp[b],temp[b+3]\n",
        "\n",
        "    if m=='u':\n",
        "        temp[b-3],temp[b] = temp[b],temp[b-3]\n",
        "\n",
        "    if m=='l':\n",
        "        temp[b-1],temp[b] = temp[b],temp[b-1]\n",
        "\n",
        "    if m=='r':\n",
        "        temp[b+1],temp[b] = temp[b],temp[b+1]\n",
        "\n",
        "\n",
        "    # return new state with tested move to later check if \"src == target\"\n",
        "    return temp"
      ],
      "metadata": {
        "id": "KUNx-LkRizWk"
      },
      "execution_count": 3,
      "outputs": []
    },
    {
      "cell_type": "code",
      "source": [
        "src = [1,2,3,4,5,6,0,7,8]\n",
        "target = [1,2,3,4,5,6,7,8,0]\n",
        "bfs(src, target)"
      ],
      "metadata": {
        "colab": {
          "base_uri": "https://localhost:8080/"
        },
        "id": "t6d-1qLxi4PQ",
        "outputId": "d19febee-df78-4e86-dcad-c67cb045dad1"
      },
      "execution_count": 4,
      "outputs": [
        {
          "output_type": "stream",
          "name": "stdout",
          "text": [
            "[1, 2, 3, 4, 5, 6, 0, 7, 8]\n",
            "[1, 2, 3, 0, 5, 6, 4, 7, 8]\n",
            "[1, 2, 3, 4, 5, 6, 7, 0, 8]\n",
            "[0, 2, 3, 1, 5, 6, 4, 7, 8]\n",
            "[1, 2, 3, 5, 0, 6, 4, 7, 8]\n",
            "[1, 2, 3, 4, 0, 6, 7, 5, 8]\n",
            "[1, 2, 3, 4, 5, 6, 7, 8, 0]\n",
            "success\n"
          ]
        }
      ]
    },
    {
      "cell_type": "code",
      "source": [
        "src = [1,0,3,4,2,6,7,5,8]\n",
        "target = [1,2,3,4,5,6,7,8,0]\n",
        "bfs(src, target)"
      ],
      "metadata": {
        "colab": {
          "base_uri": "https://localhost:8080/"
        },
        "id": "B9kkX_eVi7sM",
        "outputId": "f574bcb8-bd9a-4228-a80e-8b17f5faa5dd"
      },
      "execution_count": 5,
      "outputs": [
        {
          "output_type": "stream",
          "name": "stdout",
          "text": [
            "[1, 0, 3, 4, 2, 6, 7, 5, 8]\n",
            "[1, 2, 3, 4, 0, 6, 7, 5, 8]\n",
            "[0, 1, 3, 4, 2, 6, 7, 5, 8]\n",
            "[1, 3, 0, 4, 2, 6, 7, 5, 8]\n",
            "[1, 2, 3, 4, 5, 6, 7, 0, 8]\n",
            "[1, 2, 3, 0, 4, 6, 7, 5, 8]\n",
            "[1, 2, 3, 4, 6, 0, 7, 5, 8]\n",
            "[4, 1, 3, 0, 2, 6, 7, 5, 8]\n",
            "[1, 3, 6, 4, 2, 0, 7, 5, 8]\n",
            "[1, 2, 3, 4, 5, 6, 0, 7, 8]\n",
            "[1, 2, 3, 4, 5, 6, 7, 8, 0]\n",
            "success\n"
          ]
        }
      ]
    }
  ]
}